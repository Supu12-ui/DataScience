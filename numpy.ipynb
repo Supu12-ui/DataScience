{
  "cells": [
    {
      "cell_type": "markdown",
      "metadata": {
        "id": "view-in-github",
        "colab_type": "text"
      },
      "source": [
        "<a href=\"https://colab.research.google.com/github/Supu12-ui/DataScience/blob/main/numpy.ipynb\" target=\"_parent\"><img src=\"https://colab.research.google.com/assets/colab-badge.svg\" alt=\"Open In Colab\"/></a>"
      ]
    },
    {
      "cell_type": "code",
      "execution_count": null,
      "id": "e841ae1c",
      "metadata": {
        "id": "e841ae1c",
        "outputId": "c131e619-ffd4-4e04-82b6-17e6dc9af9a6"
      },
      "outputs": [
        {
          "name": "stdout",
          "output_type": "stream",
          "text": [
            "Requirement already satisfied: numpy in c:\\users\\kiit\\appdata\\roaming\\python\\python39\\site-packages (1.21.0)\n"
          ]
        }
      ],
      "source": [
        "!pip install numpy"
      ]
    },
    {
      "cell_type": "code",
      "execution_count": null,
      "id": "e118faf4",
      "metadata": {
        "id": "e118faf4"
      },
      "outputs": [],
      "source": [
        "import numpy as np\n",
        "import time\n",
        "import sys"
      ]
    },
    {
      "cell_type": "code",
      "execution_count": null,
      "id": "82038a9f",
      "metadata": {
        "id": "82038a9f"
      },
      "outputs": [],
      "source": [
        "size=100\n",
        "l1 = range(size)\n",
        "l2=range(size)\n",
        "a1=np.arange(size)\n",
        "a2=np.arange(size)\n"
      ]
    },
    {
      "cell_type": "code",
      "execution_count": null,
      "id": "4e7c3d12",
      "metadata": {
        "id": "4e7c3d12",
        "outputId": "c9a524d3-a481-4670-aa4f-9285821ae10a"
      },
      "outputs": [
        {
          "name": "stdout",
          "output_type": "stream",
          "text": [
            "python list  0.0\n",
            "Numpy list 0.0\n"
          ]
        }
      ],
      "source": [
        "#numpy is faster than as python \n",
        "l1 = [1,2,3,4]\n",
        "l2  = [5,6,7]\n",
        "start=time.time()\n",
        "result = [(x+y) for x,y in zip(l1,l2)]\n",
        "print(\"python list \",(time.time()-start)*1000)\n",
        "start=time.time()\n",
        "a1=np.array([2,3,4,5,6,6,4,5,6,4,5,6,7,8,6,3,4,5,6,7,5,5])\n",
        "a2=np.array([4,5,6,67,89,675,45,643,2,4,5,66,7,5,4,4,6,7,6,7,9,67])\n",
        "result=a1+a2\n",
        "print(\"Numpy list\",(time.time() -start)*1000)\n",
        "    \n",
        "\n"
      ]
    },
    {
      "cell_type": "code",
      "execution_count": null,
      "id": "2b07272f",
      "metadata": {
        "id": "2b07272f",
        "outputId": "f84dfe5a-ec6e-444c-c9a1-7f4e70c4e13c"
      },
      "outputs": [
        {
          "name": "stdout",
          "output_type": "stream",
          "text": [
            "[1 2 3]\n"
          ]
        }
      ],
      "source": [
        "a = np.array([1,2,3]) #to get array in 1 d\n",
        "print(a)"
      ]
    },
    {
      "cell_type": "code",
      "execution_count": null,
      "id": "8dab20ec",
      "metadata": {
        "id": "8dab20ec",
        "outputId": "8ba1d962-ddef-4813-a639-6b5232dfa64a"
      },
      "outputs": [
        {
          "name": "stdout",
          "output_type": "stream",
          "text": [
            "[[1 2 3]\n",
            " [3 4 5]\n",
            " [6 7 8]]\n"
          ]
        }
      ],
      "source": [
        "a = np.array([[1,2,3],[3,4,5],[6,7,8]]) #to get array in 2D\n",
        "print(a)"
      ]
    },
    {
      "cell_type": "code",
      "execution_count": null,
      "id": "b55f9de8",
      "metadata": {
        "id": "b55f9de8",
        "outputId": "98d74758-c057-4606-ba17-6351503c86ef"
      },
      "outputs": [
        {
          "data": {
            "text/plain": [
              "2"
            ]
          },
          "execution_count": 18,
          "metadata": {},
          "output_type": "execute_result"
        }
      ],
      "source": [
        "a.ndim #for getting the dimension"
      ]
    },
    {
      "cell_type": "code",
      "execution_count": null,
      "id": "e72c5ae1",
      "metadata": {
        "id": "e72c5ae1",
        "outputId": "3c0ddf55-3c39-4592-a3bb-1d86d32060a9"
      },
      "outputs": [
        {
          "data": {
            "text/plain": [
              "4"
            ]
          },
          "execution_count": 19,
          "metadata": {},
          "output_type": "execute_result"
        }
      ],
      "source": [
        "a.itemsize #for getting the bit size "
      ]
    },
    {
      "cell_type": "code",
      "execution_count": null,
      "id": "b659dfa5",
      "metadata": {
        "id": "b659dfa5",
        "outputId": "ff823a1d-1e8d-4d8d-dc53-bd13b695721f"
      },
      "outputs": [
        {
          "data": {
            "text/plain": [
              "dtype('int32')"
            ]
          },
          "execution_count": 27,
          "metadata": {},
          "output_type": "execute_result"
        }
      ],
      "source": [
        "a.dtype"
      ]
    },
    {
      "cell_type": "code",
      "execution_count": null,
      "id": "a705dd3a",
      "metadata": {
        "id": "a705dd3a",
        "outputId": "00ec6356-4a8e-4304-cad9-dadf779ea639"
      },
      "outputs": [
        {
          "data": {
            "text/plain": [
              "8"
            ]
          },
          "execution_count": 29,
          "metadata": {},
          "output_type": "execute_result"
        }
      ],
      "source": [
        "a=np.array([[2,3,4],[4,5,6],[7,8,9]],dtype=np.float64)\n",
        "a.itemsize\n"
      ]
    },
    {
      "cell_type": "code",
      "execution_count": null,
      "id": "c5ead93c",
      "metadata": {
        "id": "c5ead93c",
        "outputId": "738af0e9-fa20-4ecc-ee8a-2c492d0d1674"
      },
      "outputs": [
        {
          "data": {
            "text/plain": [
              "dtype('float64')"
            ]
          },
          "execution_count": 30,
          "metadata": {},
          "output_type": "execute_result"
        }
      ],
      "source": [
        "a.dtype"
      ]
    },
    {
      "cell_type": "code",
      "execution_count": null,
      "id": "a42a7dbe",
      "metadata": {
        "id": "a42a7dbe",
        "outputId": "4a2fecfd-3eb2-4a70-8531-6bed667c0a2c"
      },
      "outputs": [
        {
          "name": "stdout",
          "output_type": "stream",
          "text": [
            "[[2. 3. 4.]\n",
            " [4. 5. 6.]\n",
            " [7. 8. 9.]]\n"
          ]
        }
      ],
      "source": [
        "print(a)"
      ]
    },
    {
      "cell_type": "code",
      "execution_count": null,
      "id": "931cd7fa",
      "metadata": {
        "id": "931cd7fa",
        "outputId": "35102912-1611-4a89-d71a-788b9dba03f9"
      },
      "outputs": [
        {
          "data": {
            "text/plain": [
              "9"
            ]
          },
          "execution_count": 32,
          "metadata": {},
          "output_type": "execute_result"
        }
      ],
      "source": [
        "a.size"
      ]
    },
    {
      "cell_type": "code",
      "execution_count": null,
      "id": "bcbce35f",
      "metadata": {
        "id": "bcbce35f",
        "outputId": "a71349b2-92a4-4696-a73d-e87c0e20ace2"
      },
      "outputs": [
        {
          "data": {
            "text/plain": [
              "(3, 3)"
            ]
          },
          "execution_count": 33,
          "metadata": {},
          "output_type": "execute_result"
        }
      ],
      "source": [
        "a.shape"
      ]
    },
    {
      "cell_type": "code",
      "execution_count": null,
      "id": "175a11e4",
      "metadata": {
        "id": "175a11e4",
        "outputId": "ffaeb5db-0aa6-4f61-f534-b367bd2fcec6"
      },
      "outputs": [
        {
          "data": {
            "text/plain": [
              "array([[0., 0., 0.],\n",
              "       [0., 0., 0.],\n",
              "       [0., 0., 0.]])"
            ]
          },
          "execution_count": 37,
          "metadata": {},
          "output_type": "execute_result"
        }
      ],
      "source": [
        "a1=np.zeros((3,3))\n",
        "a1"
      ]
    },
    {
      "cell_type": "code",
      "execution_count": null,
      "id": "ef8578e6",
      "metadata": {
        "id": "ef8578e6",
        "outputId": "daf45122-d93d-4f2f-eadd-3fc459d25dbb"
      },
      "outputs": [
        {
          "data": {
            "text/plain": [
              "array([[1., 1., 1., 1.],\n",
              "       [1., 1., 1., 1.],\n",
              "       [1., 1., 1., 1.]])"
            ]
          },
          "execution_count": 42,
          "metadata": {},
          "output_type": "execute_result"
        }
      ],
      "source": [
        "a1=np.ones((3,4))\n",
        "a1"
      ]
    },
    {
      "cell_type": "code",
      "execution_count": null,
      "id": "66fcb30d",
      "metadata": {
        "id": "66fcb30d",
        "outputId": "3e2027bf-97a3-4693-e242-2443c6c0e55f"
      },
      "outputs": [
        {
          "data": {
            "text/plain": [
              "range(0, 5)"
            ]
          },
          "execution_count": 43,
          "metadata": {},
          "output_type": "execute_result"
        }
      ],
      "source": [
        "l=range(0,5)\n",
        "l"
      ]
    },
    {
      "cell_type": "code",
      "execution_count": null,
      "id": "7ddacdb4",
      "metadata": {
        "id": "7ddacdb4",
        "outputId": "f65cd0cd-d8a2-4b4e-cde7-bdbe8c21e14a"
      },
      "outputs": [
        {
          "data": {
            "text/plain": [
              "array([0, 1, 2, 3, 4])"
            ]
          },
          "execution_count": 45,
          "metadata": {},
          "output_type": "execute_result"
        }
      ],
      "source": [
        "a=np.arange(0,5)\n",
        "a"
      ]
    },
    {
      "cell_type": "code",
      "execution_count": null,
      "id": "1fb3536c",
      "metadata": {
        "id": "1fb3536c",
        "outputId": "a63828ea-b468-4e07-93b0-d6204f1c2b35"
      },
      "outputs": [
        {
          "data": {
            "text/plain": [
              "array([1, 3])"
            ]
          },
          "execution_count": 46,
          "metadata": {},
          "output_type": "execute_result"
        }
      ],
      "source": [
        "np.arange(1,5,2)"
      ]
    },
    {
      "cell_type": "code",
      "execution_count": null,
      "id": "23276e53",
      "metadata": {
        "id": "23276e53",
        "outputId": "e4ae27e4-538e-4dc8-ddf2-3ab5cc1758b4"
      },
      "outputs": [
        {
          "data": {
            "text/plain": [
              "array([1.        , 1.44444444, 1.88888889, 2.33333333, 2.77777778,\n",
              "       3.22222222, 3.66666667, 4.11111111, 4.55555556, 5.        ])"
            ]
          },
          "execution_count": 47,
          "metadata": {},
          "output_type": "execute_result"
        }
      ],
      "source": [
        "np.linspace(1,5,10)"
      ]
    },
    {
      "cell_type": "code",
      "execution_count": null,
      "id": "2791f808",
      "metadata": {
        "id": "2791f808",
        "outputId": "469083b1-ff8f-4ffb-e5ba-dd754b95d7b8"
      },
      "outputs": [
        {
          "data": {
            "text/plain": [
              "array([1., 2., 3., 4., 5.])"
            ]
          },
          "execution_count": 55,
          "metadata": {},
          "output_type": "execute_result"
        }
      ],
      "source": [
        "np.linspace(1,5,5)"
      ]
    },
    {
      "cell_type": "code",
      "execution_count": null,
      "id": "54212d00",
      "metadata": {
        "id": "54212d00",
        "outputId": "61af0d46-b2fa-448b-e781-6e5a3857a05f"
      },
      "outputs": [
        {
          "data": {
            "text/plain": [
              "array([[1],\n",
              "       [2],\n",
              "       [3],\n",
              "       [4],\n",
              "       [6],\n",
              "       [7],\n",
              "       [8],\n",
              "       [5],\n",
              "       [8],\n",
              "       [9],\n",
              "       [1],\n",
              "       [2]])"
            ]
          },
          "execution_count": 61,
          "metadata": {},
          "output_type": "execute_result"
        }
      ],
      "source": [
        "a=np.array([[1,2,3,4],[6,7,8,5],[8,9,1,2]])\n",
        "a.reshape(3,4)\n",
        "a.reshape(12,1)\n"
      ]
    },
    {
      "cell_type": "code",
      "execution_count": null,
      "id": "d2a90841",
      "metadata": {
        "id": "d2a90841",
        "outputId": "9f9ace41-6b46-4725-e2c8-13a0cd819190"
      },
      "outputs": [
        {
          "data": {
            "text/plain": [
              "array([1, 2, 3, 4, 6, 7, 8, 5, 8, 9, 1, 2])"
            ]
          },
          "execution_count": 63,
          "metadata": {},
          "output_type": "execute_result"
        }
      ],
      "source": [
        "a.ravel()"
      ]
    },
    {
      "cell_type": "code",
      "execution_count": null,
      "id": "5bfd33b6",
      "metadata": {
        "id": "5bfd33b6",
        "outputId": "84c0d41c-a56a-497a-ac44-9803d1a743b1"
      },
      "outputs": [
        {
          "data": {
            "text/plain": [
              "1"
            ]
          },
          "execution_count": 53,
          "metadata": {},
          "output_type": "execute_result"
        }
      ],
      "source": [
        "a=np.array([1,2,3,4,576,6,64])\n",
        "a.min() #for getting the minimum value"
      ]
    },
    {
      "cell_type": "code",
      "execution_count": null,
      "id": "6e8d4366",
      "metadata": {
        "id": "6e8d4366",
        "outputId": "7f9b008d-4a60-47f7-f70e-852cad413b98"
      },
      "outputs": [
        {
          "data": {
            "text/plain": [
              "7"
            ]
          },
          "execution_count": 64,
          "metadata": {},
          "output_type": "execute_result"
        }
      ],
      "source": [
        "a=np.array([3,4,5,6,4,6,7])\n",
        "a.max() #for getting the maximum value"
      ]
    },
    {
      "cell_type": "code",
      "execution_count": null,
      "id": "62e2e949",
      "metadata": {
        "id": "62e2e949",
        "outputId": "3bf91ef1-eadb-49a3-a98a-813de20f0de9"
      },
      "outputs": [
        {
          "data": {
            "text/plain": [
              "35"
            ]
          },
          "execution_count": 66,
          "metadata": {},
          "output_type": "execute_result"
        }
      ],
      "source": [
        "a.sum() #it will sum up the all element"
      ]
    },
    {
      "cell_type": "code",
      "execution_count": null,
      "id": "a4b19a6a",
      "metadata": {
        "id": "a4b19a6a",
        "outputId": "a5e9889f-7da7-43fd-fd2a-7154d2cad60e"
      },
      "outputs": [
        {
          "data": {
            "text/plain": [
              "50"
            ]
          },
          "execution_count": 69,
          "metadata": {},
          "output_type": "execute_result"
        }
      ],
      "source": [
        "a=np.array([[2,3,4],[6,7,8],[8,8,4]])\n",
        "a.sum() #it will sum up all the row as well as column"
      ]
    },
    {
      "cell_type": "code",
      "execution_count": null,
      "id": "8262b6a9",
      "metadata": {
        "id": "8262b6a9",
        "outputId": "8f4d39d4-5209-45e0-bb5f-d4d68c44864f"
      },
      "outputs": [
        {
          "data": {
            "text/plain": [
              "array([16, 18, 16])"
            ]
          },
          "execution_count": 71,
          "metadata": {},
          "output_type": "execute_result"
        }
      ],
      "source": [
        "a.sum(axis=0) #it will sum up only row wise because we had taken axis=0"
      ]
    },
    {
      "cell_type": "code",
      "execution_count": null,
      "id": "e84dcde2",
      "metadata": {
        "id": "e84dcde2",
        "outputId": "57b147bc-a0c4-4611-f117-cda142a85c1d"
      },
      "outputs": [
        {
          "data": {
            "text/plain": [
              "array([ 9, 21, 20])"
            ]
          },
          "execution_count": 72,
          "metadata": {},
          "output_type": "execute_result"
        }
      ],
      "source": [
        "a.sum(axis=1)#it will take all the column sum because we took the axis=1"
      ]
    },
    {
      "cell_type": "code",
      "execution_count": null,
      "id": "33bec553",
      "metadata": {
        "id": "33bec553",
        "outputId": "988df1ea-5a8f-45af-f4c4-0962ea889681"
      },
      "outputs": [
        {
          "data": {
            "text/plain": [
              "array([[1.41421356, 1.73205081, 2.        ],\n",
              "       [2.44948974, 2.64575131, 2.82842712],\n",
              "       [2.82842712, 2.82842712, 2.        ]])"
            ]
          },
          "execution_count": 73,
          "metadata": {},
          "output_type": "execute_result"
        }
      ],
      "source": [
        "np.sqrt(a) #square root of every element"
      ]
    },
    {
      "cell_type": "code",
      "execution_count": null,
      "id": "093c0f96",
      "metadata": {
        "id": "093c0f96",
        "outputId": "6487a540-3f8f-469a-bae8-0cdc352f5c04"
      },
      "outputs": [
        {
          "data": {
            "text/plain": [
              "2.2166597048066667"
            ]
          },
          "execution_count": 74,
          "metadata": {},
          "output_type": "execute_result"
        }
      ],
      "source": [
        "np.std(a) #it will give the deviation"
      ]
    },
    {
      "cell_type": "code",
      "execution_count": null,
      "id": "20639518",
      "metadata": {
        "id": "20639518",
        "outputId": "810dc5d1-2932-44cf-a5b0-b096d3763f8f"
      },
      "outputs": [
        {
          "data": {
            "text/plain": [
              "array([[2, 3, 4],\n",
              "       [6, 7, 8],\n",
              "       [8, 8, 4]])"
            ]
          },
          "execution_count": 75,
          "metadata": {},
          "output_type": "execute_result"
        }
      ],
      "source": [
        "a=np.array([[2,3,4],[6,7,8],[8,8,4]])\n",
        "b=np.array([[2,4,5],[7,8,5],[6,7,5]])\n",
        "a\n"
      ]
    },
    {
      "cell_type": "code",
      "execution_count": null,
      "id": "d36a489d",
      "metadata": {
        "id": "d36a489d",
        "outputId": "62513368-6cca-413d-d4f5-5f7ec458ba1a"
      },
      "outputs": [
        {
          "data": {
            "text/plain": [
              "array([[2, 4, 5],\n",
              "       [7, 8, 5],\n",
              "       [6, 7, 5]])"
            ]
          },
          "execution_count": 76,
          "metadata": {},
          "output_type": "execute_result"
        }
      ],
      "source": [
        "b"
      ]
    },
    {
      "cell_type": "code",
      "execution_count": null,
      "id": "fd628b1a",
      "metadata": {
        "id": "fd628b1a",
        "outputId": "39bb2e41-0123-40d4-e514-5a1322bc1a10"
      },
      "outputs": [
        {
          "data": {
            "text/plain": [
              "array([[ 4,  7,  9],\n",
              "       [13, 15, 13],\n",
              "       [14, 15,  9]])"
            ]
          },
          "execution_count": 78,
          "metadata": {},
          "output_type": "execute_result"
        }
      ],
      "source": [
        "a+b\n"
      ]
    },
    {
      "cell_type": "code",
      "execution_count": null,
      "id": "6b49371d",
      "metadata": {
        "id": "6b49371d",
        "outputId": "c33cf158-bb8b-49cd-db62-9ef6829dde4f"
      },
      "outputs": [
        {
          "data": {
            "text/plain": [
              "array([[ 4, 12, 20],\n",
              "       [42, 56, 40],\n",
              "       [48, 56, 20]])"
            ]
          },
          "execution_count": 80,
          "metadata": {},
          "output_type": "execute_result"
        }
      ],
      "source": [
        "a*b"
      ]
    },
    {
      "cell_type": "code",
      "execution_count": null,
      "id": "46440022",
      "metadata": {
        "id": "46440022",
        "outputId": "d291aaf0-5b58-4bdd-fec7-ab4bf5d9b369"
      },
      "outputs": [
        {
          "data": {
            "text/plain": [
              "array([[ 0, -1, -1],\n",
              "       [-1, -1,  3],\n",
              "       [ 2,  1, -1]])"
            ]
          },
          "execution_count": 81,
          "metadata": {},
          "output_type": "execute_result"
        }
      ],
      "source": [
        "a-b"
      ]
    },
    {
      "cell_type": "code",
      "execution_count": null,
      "id": "0cced42a",
      "metadata": {
        "id": "0cced42a",
        "outputId": "6c817d36-2775-49a3-84f9-182eb52c055e"
      },
      "outputs": [
        {
          "data": {
            "text/plain": [
              "array([[1.        , 0.75      , 0.8       ],\n",
              "       [0.85714286, 0.875     , 1.6       ],\n",
              "       [1.33333333, 1.14285714, 0.8       ]])"
            ]
          },
          "execution_count": 82,
          "metadata": {},
          "output_type": "execute_result"
        }
      ],
      "source": [
        "a/b"
      ]
    },
    {
      "cell_type": "code",
      "execution_count": null,
      "id": "44c77e5e",
      "metadata": {
        "id": "44c77e5e",
        "outputId": "23d60202-8880-42e7-a3a4-cd7a7902d5a3"
      },
      "outputs": [
        {
          "data": {
            "text/plain": [
              "array([[ 49,  60,  45],\n",
              "       [109, 136, 105],\n",
              "       [ 96, 124, 100]])"
            ]
          },
          "execution_count": 83,
          "metadata": {},
          "output_type": "execute_result"
        }
      ],
      "source": [
        "a.dot(b)"
      ]
    },
    {
      "cell_type": "markdown",
      "id": "9bb75c09",
      "metadata": {
        "id": "9bb75c09"
      },
      "source": [
        "# Indexing and slicing "
      ]
    },
    {
      "cell_type": "code",
      "execution_count": null,
      "id": "99f7ab53",
      "metadata": {
        "id": "99f7ab53",
        "outputId": "190cfb0d-b198-4a13-b672-f13d39bd5868"
      },
      "outputs": [
        {
          "data": {
            "text/plain": [
              "[6, 7]"
            ]
          },
          "execution_count": 85,
          "metadata": {},
          "output_type": "execute_result"
        }
      ],
      "source": [
        "n = [6,7,8]\n",
        "n[0:2]"
      ]
    },
    {
      "cell_type": "code",
      "execution_count": null,
      "id": "8008ea6f",
      "metadata": {
        "id": "8008ea6f",
        "outputId": "64f12a81-5196-4116-afa3-4eaadfd371ae"
      },
      "outputs": [
        {
          "data": {
            "text/plain": [
              "8"
            ]
          },
          "execution_count": 86,
          "metadata": {},
          "output_type": "execute_result"
        }
      ],
      "source": [
        "n[-1]"
      ]
    },
    {
      "cell_type": "code",
      "execution_count": null,
      "id": "d2887f44",
      "metadata": {
        "id": "d2887f44",
        "outputId": "f8aadee3-39fa-441e-cfbb-df947353ec03"
      },
      "outputs": [
        {
          "data": {
            "text/plain": [
              "array([6, 7])"
            ]
          },
          "execution_count": 87,
          "metadata": {},
          "output_type": "execute_result"
        }
      ],
      "source": [
        "a = np.array([6,7,8])\n",
        "a[0:2]"
      ]
    },
    {
      "cell_type": "code",
      "execution_count": null,
      "id": "37010061",
      "metadata": {
        "id": "37010061",
        "outputId": "bda677e1-ee0a-4995-d015-367f209d3a20"
      },
      "outputs": [
        {
          "data": {
            "text/plain": [
              "8"
            ]
          },
          "execution_count": 88,
          "metadata": {},
          "output_type": "execute_result"
        }
      ],
      "source": [
        "a[-1]"
      ]
    },
    {
      "cell_type": "code",
      "execution_count": null,
      "id": "4803f7fc",
      "metadata": {
        "id": "4803f7fc",
        "outputId": "f6626c4d-cb5c-478d-8206-8362a3b0b6ce"
      },
      "outputs": [
        {
          "data": {
            "text/plain": [
              "2"
            ]
          },
          "execution_count": 97,
          "metadata": {},
          "output_type": "execute_result"
        }
      ],
      "source": [
        "a=np.array([[1,2,3,4],[6,7,8,5],[8,9,1,2]])\n",
        "a[2,3]"
      ]
    },
    {
      "cell_type": "code",
      "execution_count": null,
      "id": "9bf3023a",
      "metadata": {
        "id": "9bf3023a",
        "outputId": "db16ff70-4acc-46fc-9259-9a65fe0243f4"
      },
      "outputs": [
        {
          "data": {
            "text/plain": [
              "array([[1, 2, 3, 4],\n",
              "       [6, 7, 8, 5],\n",
              "       [8, 9, 1, 2]])"
            ]
          },
          "execution_count": 98,
          "metadata": {},
          "output_type": "execute_result"
        }
      ],
      "source": [
        "a"
      ]
    },
    {
      "cell_type": "code",
      "execution_count": null,
      "id": "8127f8cd",
      "metadata": {
        "id": "8127f8cd",
        "outputId": "e90edb21-6646-4fa9-9886-0faee6b0f18f"
      },
      "outputs": [
        {
          "data": {
            "text/plain": [
              "array([3, 8, 1])"
            ]
          },
          "execution_count": 99,
          "metadata": {},
          "output_type": "execute_result"
        }
      ],
      "source": [
        "a[0:3,2]"
      ]
    },
    {
      "cell_type": "code",
      "execution_count": null,
      "id": "1ea1ad14",
      "metadata": {
        "id": "1ea1ad14",
        "outputId": "06ea21e0-078b-4c62-efd0-51f8c6d6e50d"
      },
      "outputs": [
        {
          "data": {
            "text/plain": [
              "array([8, 9, 1, 2])"
            ]
          },
          "execution_count": 101,
          "metadata": {},
          "output_type": "execute_result"
        }
      ],
      "source": [
        "a[-1]"
      ]
    },
    {
      "cell_type": "code",
      "execution_count": null,
      "id": "b7c67e61",
      "metadata": {
        "id": "b7c67e61",
        "outputId": "f7a4d8ad-19a5-4cd4-8107-3d141fd0c435"
      },
      "outputs": [
        {
          "data": {
            "text/plain": [
              "array([8, 9, 1, 2])"
            ]
          },
          "execution_count": 103,
          "metadata": {},
          "output_type": "execute_result"
        }
      ],
      "source": [
        "a[-1,0:4]"
      ]
    },
    {
      "cell_type": "code",
      "execution_count": null,
      "id": "619160ec",
      "metadata": {
        "id": "619160ec",
        "outputId": "ddd4898f-3298-4dd3-fe08-aab1443c778c"
      },
      "outputs": [
        {
          "data": {
            "text/plain": [
              "array([[2, 3, 4],\n",
              "       [7, 8, 5],\n",
              "       [9, 1, 2]])"
            ]
          },
          "execution_count": 104,
          "metadata": {},
          "output_type": "execute_result"
        }
      ],
      "source": [
        "a[:,1:4]"
      ]
    },
    {
      "cell_type": "markdown",
      "id": "9df5d20c",
      "metadata": {
        "id": "9df5d20c"
      },
      "source": [
        "#iteration in an array "
      ]
    },
    {
      "cell_type": "code",
      "execution_count": null,
      "id": "881ef168",
      "metadata": {
        "id": "881ef168",
        "outputId": "21ff8c68-0f35-434a-ad29-0327a4ae8adc"
      },
      "outputs": [
        {
          "name": "stdout",
          "output_type": "stream",
          "text": [
            "[1 2 3 4]\n",
            "[6 7 8 5]\n",
            "[8 9 1 2]\n"
          ]
        }
      ],
      "source": [
        "for row in a:\n",
        "    print(row)"
      ]
    },
    {
      "cell_type": "code",
      "execution_count": null,
      "id": "9c523bc6",
      "metadata": {
        "id": "9c523bc6",
        "outputId": "4c11d573-584a-4aff-ac5f-b4da78089df5"
      },
      "outputs": [
        {
          "name": "stdout",
          "output_type": "stream",
          "text": [
            "1\n",
            "2\n",
            "3\n",
            "4\n",
            "6\n",
            "7\n",
            "8\n",
            "5\n",
            "8\n",
            "9\n",
            "1\n",
            "2\n"
          ]
        }
      ],
      "source": [
        "for row in a.flat:\n",
        "    print(row)"
      ]
    },
    {
      "cell_type": "markdown",
      "id": "d5584d16",
      "metadata": {
        "id": "d5584d16"
      },
      "source": [
        "# Stacking together an array "
      ]
    },
    {
      "cell_type": "code",
      "execution_count": null,
      "id": "93f93fa2",
      "metadata": {
        "id": "93f93fa2",
        "outputId": "3c549868-53c4-4484-b510-b1f24122e97a"
      },
      "outputs": [
        {
          "data": {
            "text/plain": [
              "array([[ 6,  7],\n",
              "       [ 8,  9],\n",
              "       [10, 11]])"
            ]
          },
          "execution_count": 123,
          "metadata": {},
          "output_type": "execute_result"
        }
      ],
      "source": [
        "a = np.array(np.arange(6,12).reshape(3,2))\n",
        "a"
      ]
    },
    {
      "cell_type": "code",
      "execution_count": null,
      "id": "dac67adc",
      "metadata": {
        "id": "dac67adc",
        "outputId": "d2c99436-4d23-4958-b492-69457ef0c1e1"
      },
      "outputs": [
        {
          "data": {
            "text/plain": [
              "array([[11, 12],\n",
              "       [13, 14],\n",
              "       [15, 16]])"
            ]
          },
          "execution_count": 121,
          "metadata": {},
          "output_type": "execute_result"
        }
      ],
      "source": [
        "b = np.array(np.arange(11,17).reshape(3,2))\n",
        "b"
      ]
    },
    {
      "cell_type": "code",
      "execution_count": null,
      "id": "1a46a800",
      "metadata": {
        "id": "1a46a800",
        "outputId": "ce751c1e-d915-4441-823c-bccb764c017c"
      },
      "outputs": [
        {
          "data": {
            "text/plain": [
              "array([[ 6,  7],\n",
              "       [ 8,  9],\n",
              "       [10, 11],\n",
              "       [11, 12],\n",
              "       [13, 14],\n",
              "       [15, 16]])"
            ]
          },
          "execution_count": 124,
          "metadata": {},
          "output_type": "execute_result"
        }
      ],
      "source": [
        "np.vstack((a,b))"
      ]
    },
    {
      "cell_type": "code",
      "execution_count": null,
      "id": "466f8958",
      "metadata": {
        "id": "466f8958",
        "outputId": "94014176-75ad-4c4b-882f-8384fea1db94"
      },
      "outputs": [
        {
          "data": {
            "text/plain": [
              "array([[ 0,  1,  2,  3,  4,  5,  6,  7,  8,  9, 10, 11, 12, 13, 14],\n",
              "       [15, 16, 17, 18, 19, 20, 21, 22, 23, 24, 25, 26, 27, 28, 29]])"
            ]
          },
          "execution_count": 125,
          "metadata": {},
          "output_type": "execute_result"
        }
      ],
      "source": [
        "c = np.array(np.arange(30).reshape(2,15))\n",
        "c"
      ]
    },
    {
      "cell_type": "code",
      "execution_count": null,
      "id": "20ed7324",
      "metadata": {
        "id": "20ed7324",
        "outputId": "d3710878-1b8c-49b1-9169-5041646174c9"
      },
      "outputs": [
        {
          "data": {
            "text/plain": [
              "[array([[ 0,  1,  2,  3,  4],\n",
              "        [15, 16, 17, 18, 19]]),\n",
              " array([[ 5,  6,  7,  8,  9],\n",
              "        [20, 21, 22, 23, 24]]),\n",
              " array([[10, 11, 12, 13, 14],\n",
              "        [25, 26, 27, 28, 29]])]"
            ]
          },
          "execution_count": 126,
          "metadata": {},
          "output_type": "execute_result"
        }
      ],
      "source": [
        "np.hsplit(c,3)"
      ]
    },
    {
      "cell_type": "code",
      "execution_count": null,
      "id": "2e49edfa",
      "metadata": {
        "id": "2e49edfa",
        "outputId": "62042554-b1b4-439d-d9a6-4b5b41f0bdf8"
      },
      "outputs": [
        {
          "data": {
            "text/plain": [
              "array([[ 0,  1,  2,  3,  4],\n",
              "       [15, 16, 17, 18, 19]])"
            ]
          },
          "execution_count": 128,
          "metadata": {},
          "output_type": "execute_result"
        }
      ],
      "source": [
        "result =np.hsplit(c,3)\n",
        "result[0]"
      ]
    },
    {
      "cell_type": "code",
      "execution_count": null,
      "id": "706d4cee",
      "metadata": {
        "id": "706d4cee",
        "outputId": "d195538e-ffe1-47ec-c792-228d85fbb7f9"
      },
      "outputs": [
        {
          "data": {
            "text/plain": [
              "array([[ 5,  6,  7,  8,  9],\n",
              "       [20, 21, 22, 23, 24]])"
            ]
          },
          "execution_count": 129,
          "metadata": {},
          "output_type": "execute_result"
        }
      ],
      "source": [
        "result[1]"
      ]
    },
    {
      "cell_type": "code",
      "execution_count": null,
      "id": "67df5256",
      "metadata": {
        "id": "67df5256",
        "outputId": "9c16022d-1885-4078-f352-484962a88cdd"
      },
      "outputs": [
        {
          "data": {
            "text/plain": [
              "array([[10, 11, 12, 13, 14],\n",
              "       [25, 26, 27, 28, 29]])"
            ]
          },
          "execution_count": 130,
          "metadata": {},
          "output_type": "execute_result"
        }
      ],
      "source": [
        "result[2]"
      ]
    },
    {
      "cell_type": "code",
      "execution_count": null,
      "id": "619de060",
      "metadata": {
        "id": "619de060",
        "outputId": "3578017b-08ff-4521-db88-5469249420ad"
      },
      "outputs": [
        {
          "data": {
            "text/plain": [
              "array([[ 0,  1,  2,  3,  4,  5,  6,  7,  8,  9, 10, 11, 12, 13, 14]])"
            ]
          },
          "execution_count": 135,
          "metadata": {},
          "output_type": "execute_result"
        }
      ],
      "source": [
        "result=np.vsplit(c,2)\n",
        "result[0]"
      ]
    },
    {
      "cell_type": "code",
      "execution_count": null,
      "id": "54809c04",
      "metadata": {
        "id": "54809c04",
        "outputId": "bb5b669f-5302-4b31-9983-db0b8b6a65ec"
      },
      "outputs": [
        {
          "data": {
            "text/plain": [
              "array([[ 0,  1,  2,  3],\n",
              "       [ 4,  5,  6,  7],\n",
              "       [ 8,  9, 10, 11]])"
            ]
          },
          "execution_count": 139,
          "metadata": {},
          "output_type": "execute_result"
        }
      ],
      "source": [
        "a = np.arange(12).reshape(3,4)\n",
        "a"
      ]
    },
    {
      "cell_type": "code",
      "execution_count": null,
      "id": "b1d3f6c4",
      "metadata": {
        "id": "b1d3f6c4",
        "outputId": "bef5c5fc-4016-4363-9311-4d1bd0ac7d2c"
      },
      "outputs": [
        {
          "data": {
            "text/plain": [
              "array([[False, False, False, False],\n",
              "       [False,  True,  True,  True],\n",
              "       [ True,  True,  True,  True]])"
            ]
          },
          "execution_count": 141,
          "metadata": {},
          "output_type": "execute_result"
        }
      ],
      "source": [
        "b = a>4\n",
        "b"
      ]
    },
    {
      "cell_type": "code",
      "execution_count": null,
      "id": "d35fadd2",
      "metadata": {
        "id": "d35fadd2",
        "outputId": "19941b69-4cb3-433c-da48-caef88ef3a70"
      },
      "outputs": [
        {
          "data": {
            "text/plain": [
              "array([ 5,  6,  7,  8,  9, 10, 11])"
            ]
          },
          "execution_count": 142,
          "metadata": {},
          "output_type": "execute_result"
        }
      ],
      "source": [
        "a[b] #it return the index which is true "
      ]
    },
    {
      "cell_type": "code",
      "execution_count": null,
      "id": "6fb09b99",
      "metadata": {
        "id": "6fb09b99",
        "outputId": "830eea7e-1965-4f3f-e350-1d7ff9df412c"
      },
      "outputs": [
        {
          "data": {
            "text/plain": [
              "array([[ 0,  1,  2,  3],\n",
              "       [ 4, -1, -1, -1],\n",
              "       [-1, -1, -1, -1]])"
            ]
          },
          "execution_count": 144,
          "metadata": {},
          "output_type": "execute_result"
        }
      ],
      "source": [
        "a[b]=-1 # where there is equal to true than it will give -1\n",
        "a"
      ]
    },
    {
      "cell_type": "markdown",
      "id": "1c86c32f",
      "metadata": {
        "id": "1c86c32f"
      },
      "source": [
        "# itertrate numpy arrat using nditor\n"
      ]
    },
    {
      "cell_type": "code",
      "execution_count": null,
      "id": "67f4b71b",
      "metadata": {
        "id": "67f4b71b",
        "outputId": "85260697-8c89-4302-b8a5-d7d6247b1382"
      },
      "outputs": [
        {
          "data": {
            "text/plain": [
              "array([[ 0,  1,  2,  3],\n",
              "       [ 4,  5,  6,  7],\n",
              "       [ 8,  9, 10, 11]])"
            ]
          },
          "execution_count": 146,
          "metadata": {},
          "output_type": "execute_result"
        }
      ],
      "source": [
        "a = np.array(np.arange(12).reshape(3,4))\n",
        "a"
      ]
    },
    {
      "cell_type": "code",
      "execution_count": null,
      "id": "193682f0",
      "metadata": {
        "id": "193682f0",
        "outputId": "7530abdd-01b7-4f23-bd07-4a426817852f"
      },
      "outputs": [
        {
          "name": "stdout",
          "output_type": "stream",
          "text": [
            "0\n",
            "1\n",
            "2\n",
            "3\n",
            "4\n",
            "5\n",
            "6\n",
            "7\n",
            "8\n",
            "9\n",
            "10\n",
            "11\n"
          ]
        }
      ],
      "source": [
        "for row in a:\n",
        "    for col in row:\n",
        "        print(col)"
      ]
    },
    {
      "cell_type": "code",
      "execution_count": null,
      "id": "cf3e98fc",
      "metadata": {
        "id": "cf3e98fc",
        "outputId": "7c7fe4ce-13bc-45b1-96bb-36d9a5437dbc"
      },
      "outputs": [
        {
          "name": "stdout",
          "output_type": "stream",
          "text": [
            "0\n",
            "1\n",
            "2\n",
            "3\n",
            "4\n",
            "5\n",
            "6\n",
            "7\n",
            "8\n",
            "9\n",
            "10\n",
            "11\n"
          ]
        }
      ],
      "source": [
        "for row in a.flat:\n",
        "    print(row)"
      ]
    },
    {
      "cell_type": "code",
      "execution_count": null,
      "id": "385451e8",
      "metadata": {
        "id": "385451e8",
        "outputId": "760a8b97-bb38-46f0-ef5b-a4a058613390"
      },
      "outputs": [
        {
          "name": "stdout",
          "output_type": "stream",
          "text": [
            "0\n",
            "1\n",
            "2\n",
            "3\n",
            "4\n",
            "5\n",
            "6\n",
            "7\n",
            "8\n",
            "9\n",
            "10\n",
            "11\n"
          ]
        }
      ],
      "source": [
        "for row in np.nditer(a,order='C'):\n",
        "    print(row)"
      ]
    },
    {
      "cell_type": "code",
      "execution_count": null,
      "id": "c0d88224",
      "metadata": {
        "id": "c0d88224",
        "outputId": "e90ac002-5d9e-446b-f1b3-e046f4cae373"
      },
      "outputs": [
        {
          "name": "stdout",
          "output_type": "stream",
          "text": [
            "0\n",
            "4\n",
            "8\n",
            "1\n",
            "5\n",
            "9\n",
            "2\n",
            "6\n",
            "10\n",
            "3\n",
            "7\n",
            "11\n"
          ]
        }
      ],
      "source": [
        "for row in np.nditer(a,order='F'):\n",
        "    print(row)"
      ]
    },
    {
      "cell_type": "code",
      "execution_count": null,
      "id": "c292b267",
      "metadata": {
        "id": "c292b267",
        "outputId": "9ceab5f2-1dc4-4542-ef4b-9e0922720521"
      },
      "outputs": [
        {
          "name": "stdout",
          "output_type": "stream",
          "text": [
            "[0 4 8]\n",
            "[1 5 9]\n",
            "[ 2  6 10]\n",
            "[ 3  7 11]\n"
          ]
        }
      ],
      "source": [
        "for x in np.nditer(a,order='F',flags=['external_loop']):\n",
        "    print(x)"
      ]
    },
    {
      "cell_type": "code",
      "execution_count": null,
      "id": "7743915c",
      "metadata": {
        "id": "7743915c"
      },
      "outputs": [],
      "source": [
        "for x in np.nditer(a,op_flags=['readwrite']):\n",
        "    x[...]=x*x"
      ]
    },
    {
      "cell_type": "code",
      "execution_count": null,
      "id": "8635cd13",
      "metadata": {
        "id": "8635cd13",
        "outputId": "7aebe82d-83c6-4c6c-bbaa-d8aa07da665b"
      },
      "outputs": [
        {
          "data": {
            "text/plain": [
              "array(121)"
            ]
          },
          "execution_count": 158,
          "metadata": {},
          "output_type": "execute_result"
        }
      ],
      "source": [
        "x"
      ]
    }
  ],
  "metadata": {
    "kernelspec": {
      "display_name": "Python 3 (ipykernel)",
      "language": "python",
      "name": "python3"
    },
    "language_info": {
      "codemirror_mode": {
        "name": "ipython",
        "version": 3
      },
      "file_extension": ".py",
      "mimetype": "text/x-python",
      "name": "python",
      "nbconvert_exporter": "python",
      "pygments_lexer": "ipython3",
      "version": "3.9.7"
    },
    "colab": {
      "name": "numpy.ipynb",
      "provenance": [],
      "include_colab_link": true
    }
  },
  "nbformat": 4,
  "nbformat_minor": 5
}